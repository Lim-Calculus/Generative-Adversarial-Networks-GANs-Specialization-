{
 "cells": [
  {
   "cell_type": "markdown",
   "metadata": {},
   "source": [
    "## Unconditional Generation\n",
    "- Unconditional generation - You get outputs from random classes\n",
    "- Conditional Generation : You get what you ask for (like vending machine)\n",
    "\n",
    "![Alt text](image.png)\n",
    "![Alt text](image-2.png)\n"
   ]
  },
  {
   "cell_type": "markdown",
   "metadata": {},
   "source": [
    "## Conditional Generation : Inputs\n",
    "![Alt text](image-4.png)\n",
    "![Alt text](image-5.png)\n",
    "![Alt text](image-6.png)\n",
    "![Alt text](image-7.png)\n",
    "![Alt text](image-8.png)\n",
    "![Alt text](image-9.png)\n",
    "![Alt text](image-11.png)\n",
    "![Alt text](image-10.png)"
   ]
  }
 ],
 "metadata": {
  "language_info": {
   "name": "python"
  },
  "orig_nbformat": 4
 },
 "nbformat": 4,
 "nbformat_minor": 2
}
