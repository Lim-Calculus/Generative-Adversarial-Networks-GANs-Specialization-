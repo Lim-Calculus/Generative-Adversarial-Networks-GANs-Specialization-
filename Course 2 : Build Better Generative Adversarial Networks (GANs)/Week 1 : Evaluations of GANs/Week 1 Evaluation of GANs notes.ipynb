{
 "cells": [
  {
   "cell_type": "markdown",
   "metadata": {},
   "source": [
    "## Week 1 : Evaluation of GANs"
   ]
  },
  {
   "cell_type": "markdown",
   "metadata": {},
   "source": [
    "![Alt text](image.png)\n",
    "![Alt text](image-1.png)"
   ]
  },
  {
   "cell_type": "markdown",
   "metadata": {},
   "source": [
    "![Alt text](image-2.png)\n",
    "![Alt text](image-3.png)\n",
    "![Alt text](image-4.png)\n",
    "\n",
    "<br> Two Important of Properties <br>\n",
    "Fidelity - Quality of Images <br>\n",
    "Diversity - Variety of images"
   ]
  },
  {
   "cell_type": "markdown",
   "metadata": {},
   "source": [
    "![Alt text](image-5.png)"
   ]
  },
  {
   "cell_type": "markdown",
   "metadata": {},
   "source": [
    "## Comparing Images\n",
    "![Alt text](image-6.png)\n",
    "![Alt text](image-7.png)\n",
    "![Alt text](image-8.png)"
   ]
  },
  {
   "cell_type": "markdown",
   "metadata": {},
   "source": [
    "## Feature Extraction\n",
    "![Alt text](image-9.png)\n",
    "![Alt text](image-10.png)"
   ]
  }
 ],
 "metadata": {
  "language_info": {
   "name": "python"
  },
  "orig_nbformat": 4
 },
 "nbformat": 4,
 "nbformat_minor": 2
}
